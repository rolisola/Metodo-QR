{
 "cells": [
  {
   "cell_type": "markdown",
   "metadata": {
    "id": "aJKGyl8DqIzz"
   },
   "source": [
    "# Declaração de Funções"
   ]
  },
  {
   "cell_type": "code",
   "execution_count": 1,
   "metadata": {
    "id": "cL3jzxMsXIbj"
   },
   "outputs": [],
   "source": [
    "import numpy as np, math # Para operações básicas com vetores e matrizes\n",
    "\n",
    "def norma_vetor(vetor):\n",
    "    soma_quadrados = 0.0\n",
    "\n",
    "    # Calcula a soma dos quadrados dos elementos do vetor\n",
    "    for elemento in vetor:\n",
    "        soma_quadrados += elemento ** 2\n",
    "\n",
    "    # Retorna a raiz quadrada da soma dos quadrados\n",
    "    norma = math.sqrt(soma_quadrados)\n",
    "\n",
    "    return norma\n",
    "\n",
    "def gram_schmidt(matriz):\n",
    "    \"\"\"\n",
    "    Realiza a decomposição QR de uma matriz matriz usando o processo de Gram-Schmidt.\n",
    "\n",
    "    Args:\n",
    "    - matriz: Matriz quadrada (numpy array)\n",
    "\n",
    "    Returns:\n",
    "    - Q: Matriz ortogonal (numpy array)\n",
    "    - R: Matriz triangular superior (numpy array)\n",
    "    \"\"\"\n",
    "\n",
    "    tam_matriz = matriz.shape[0]\n",
    "    Q = np.zeros_like(matriz, dtype=float)\n",
    "    R = np.zeros_like(matriz, dtype=float)\n",
    "\n",
    "    for j in range(tam_matriz):\n",
    "        vetor = matriz[:, j]\n",
    "\n",
    "        print(f\"vetor: {j+1}\", vetor)\n",
    "\n",
    "        for i in range(j):\n",
    "            R[i, j] = np.dot(Q[:, i], matriz[:, j])\n",
    "            vetor -= R[i, j] * Q[:, i]\n",
    "        R[j, j] = norma_vetor(vetor)\n",
    "        if R[j, j] > 1e-10:  # Evita divisão por zero\n",
    "            Q[:, j] = vetor / R[j, j]\n",
    "        else:\n",
    "            Q[:, j] = vetor  # Vetor nulo, mantém como está\n",
    "\n",
    "    return Q, R\n",
    "\n",
    "def householder(A):\n",
    "    \"\"\"\n",
    "    Realiza a decomposição QR de uma matriz usando reflexões de Householder.\n",
    "\n",
    "    Args:\n",
    "    - A: Matriz (numpy array)\n",
    "\n",
    "    Returns:\n",
    "    - Q: Matriz ortogonal (numpy array)\n",
    "    - R: Matriz triangular superior (numpy array)\n",
    "    \"\"\"\n",
    "    m, n = A.shape\n",
    "    R = A.copy()\n",
    "    Q = np.eye(m)\n",
    "\n",
    "    for j in range(n):\n",
    "        # Aplicando a reflexão de Householder para zerar os elementos abaixo da diagonal em R\n",
    "        x = R[j:, j]\n",
    "        norma_x = norma_vetor(x)\n",
    "        v = x.copy()\n",
    "        v[0] = x[0] + np.sign(x[0]) * norma_x\n",
    "        if norma_vetor(v) != 0:\n",
    "            v = v / norma_vetor(v)\n",
    "\n",
    "        R[j:, j:] -= 2 * np.outer(v, np.dot(v.T, R[j:, j:]))\n",
    "\n",
    "        Q[:, j:] -= 2 * np.outer(np.dot(Q[:, j:], v), v.T)\n",
    "\n",
    "    return Q, R\n",
    "\n",
    "def givens(A):\n",
    "    m, n = A.shape\n",
    "    Q = np.eye(m)\n",
    "    R = A.copy()\n",
    "\n",
    "    for j in range(n):\n",
    "        for i in range(m-1, j, -1):\n",
    "            if R[i, j] != 0:\n",
    "                # Calcular os parâmetros da rotação de Givens\n",
    "                r = np.sqrt(R[j, j]**2 + R[i, j]**2)\n",
    "                c = R[j, j] / r\n",
    "                s = -R[i, j] / r\n",
    "\n",
    "                # Aplicar a rotação de Givens à direita de R\n",
    "                G = np.identity(m)\n",
    "                G[[j, i], [j, i]] = c\n",
    "                G[j, i] = s\n",
    "                G[i, j] = -s\n",
    "                R = np.dot(G, R)\n",
    "\n",
    "                # Acumular a matriz Q\n",
    "                Q = np.dot(Q, G.T)\n",
    "\n",
    "    return Q, R\n",
    "\n",
    "def metodo_qr(matriz_inicial, metodo, max_iteracoes=100, erro=1e-8):\n",
    "    \"\"\"\n",
    "    Aplica o método QR iterativo para encontrar autovalores de uma matriz matriz_inicial.\n",
    "\n",
    "    Args:\n",
    "    - matriz_inicial: Matriz quadrada (numpy array)\n",
    "    - max_iteracoes: Número máximo de iterações (opcional)\n",
    "\n",
    "    Returns:\n",
    "    - autovalores: Lista de autovalores aproximados\n",
    "    \"\"\"\n",
    "\n",
    "    A_k = matriz_inicial.copy()\n",
    "    tam_matriz = matriz_inicial.shape[0]\n",
    "    autovalores = []\n",
    "\n",
    "    print(f\"Matriz A_1:\")\n",
    "    print(A_k)\n",
    "\n",
    "    for k in range(max_iteracoes):\n",
    "        if metodo == \"gs\":\n",
    "            Q, R = gram_schmidt(A_k)\n",
    "        if metodo == \"hh\":\n",
    "            Q, R = householder(A_k)\n",
    "        if metodo == \"rg\":\n",
    "            Q, R = givens(A_k)\n",
    "\n",
    "        print(f\"Matriz Q_{k+1}:\")\n",
    "        print(Q)\n",
    "        print(f\"Matriz R_{k+1}:\")\n",
    "        print(R)\n",
    "\n",
    "        A_k = np.dot(R, Q) # Multiplicação RxQ\n",
    "        print(f\"Matriz A_{k+2}:\")\n",
    "        print(A_k)\n",
    "\n",
    "        # Extração dos autovalores da diagonal de A_k\n",
    "        autovalores_k = [A_k[i, i] for i in range(tam_matriz)]\n",
    "        autovalores.append(autovalores_k)\n",
    "\n",
    "        # Critério de parada (todos os elementos abaixo da diagonal principal são menores que o Erro)\n",
    "        criterio_parada = True\n",
    "        for i in range(1, tam_matriz):\n",
    "            for j in range(i):\n",
    "                if abs(A_k[i][j]) >= erro:\n",
    "                    criterio_parada = False\n",
    "                    break\n",
    "            if not criterio_parada:\n",
    "                break\n",
    "\n",
    "        if criterio_parada:\n",
    "            break\n",
    "\n",
    "    return autovalores\n"
   ]
  },
  {
   "cell_type": "markdown",
   "metadata": {
    "id": "OVARxbmdqSTv"
   },
   "source": [
    "# Exemplo passo a passo do funcionamento do código:\n"
   ]
  },
  {
   "cell_type": "markdown",
   "metadata": {
    "id": "j_I3kwaMrToZ"
   },
   "source": [
    "## Definindo a matrix inicial:"
   ]
  },
  {
   "cell_type": "code",
   "execution_count": 2,
   "metadata": {
    "id": "7vPPAQbhqaNX"
   },
   "outputs": [],
   "source": [
    "matriz_inicial_exemplo = np.array([\n",
    "    [2, 3, 0],\n",
    "    [0, 4, 0],\n",
    "    [2, -3, 1]\n",
    "], dtype=float)"
   ]
  },
  {
   "cell_type": "markdown",
   "metadata": {
    "id": "6pKAx0rnrZxe"
   },
   "source": [
    "## Iteração 1:"
   ]
  },
  {
   "cell_type": "markdown",
   "metadata": {
    "id": "BMt55rgWrrTH"
   },
   "source": [
    "Na primeira iteração temos que A<sub>1</sub> = matrix inicial:"
   ]
  },
  {
   "cell_type": "code",
   "execution_count": 3,
   "metadata": {
    "colab": {
     "base_uri": "https://localhost:8080/"
    },
    "id": "WhbDq43Oq6_Z",
    "outputId": "0543bfb0-373d-43b9-d607-cc5022d04c53"
   },
   "outputs": [
    {
     "data": {
      "text/plain": [
       "array([[ 2.,  3.,  0.],\n",
       "       [ 0.,  4.,  0.],\n",
       "       [ 2., -3.,  1.]])"
      ]
     },
     "execution_count": 3,
     "metadata": {},
     "output_type": "execute_result"
    }
   ],
   "source": [
    "A1 = matriz_inicial_exemplo\n",
    "A1"
   ]
  },
  {
   "cell_type": "markdown",
   "metadata": {
    "id": "dAjkvelur50d"
   },
   "source": [
    "Ao encontrar A<sub>1</sub>, fazemos a decomposição QR para encontrar as matrizes Q<sub>1</sub> e R<sub>1</sub>:"
   ]
  },
  {
   "cell_type": "code",
   "execution_count": 4,
   "metadata": {
    "colab": {
     "base_uri": "https://localhost:8080/"
    },
    "id": "0MWf_gO0qkdP",
    "outputId": "76c836bd-9477-492a-a8ea-300aa6f288f1"
   },
   "outputs": [
    {
     "name": "stdout",
     "output_type": "stream",
     "text": [
      "vetor: 1 [2. 0. 2.]\n",
      "vetor: 2 [ 3.  4. -3.]\n",
      "vetor: 3 [0. 0. 1.]\n",
      "\n",
      "Q1:\n",
      "[[ 0.70710678  0.51449576 -0.48507125]\n",
      " [ 0.          0.68599434  0.72760688]\n",
      " [ 0.70710678 -0.51449576  0.48507125]]\n",
      "\n",
      "R1:\n",
      "[[ 2.82842712  0.          0.70710678]\n",
      " [ 0.          5.83095189 -0.51449576]\n",
      " [ 0.          0.          0.48507125]]\n"
     ]
    }
   ],
   "source": [
    "Q1, R1 = gram_schmidt(A1)\n",
    "print(\"\\nQ1:\")\n",
    "print(Q1)\n",
    "print(\"\\nR1:\")\n",
    "print(R1)"
   ]
  },
  {
   "cell_type": "markdown",
   "metadata": {
    "id": "fbb3Q15tsW7T"
   },
   "source": [
    "## Iteração 2:"
   ]
  },
  {
   "cell_type": "markdown",
   "metadata": {
    "id": "H5B_CePBsb6g"
   },
   "source": [
    "Ao encontrar as matrizes Q<sub>1</sub> e R<sub>1</sub>, é possível calcular a matrix A<sub>2</sub> = (R<sub>1</sub>)⋅(Q<sub>1</sub>)"
   ]
  },
  {
   "cell_type": "code",
   "execution_count": 5,
   "metadata": {
    "colab": {
     "base_uri": "https://localhost:8080/"
    },
    "id": "SFicBTAHqx3b",
    "outputId": "3d36c305-e69d-4460-8590-f02a0b39319f"
   },
   "outputs": [
    {
     "data": {
      "text/plain": [
       "array([[ 2.5       ,  1.09141031, -1.02899151],\n",
       "       [-0.36380344,  4.26470588,  3.99307359],\n",
       "       [ 0.34299717, -0.2495671 ,  0.23529412]])"
      ]
     },
     "execution_count": 5,
     "metadata": {},
     "output_type": "execute_result"
    }
   ],
   "source": [
    "A2 = np.dot(R1, Q1)\n",
    "A2"
   ]
  },
  {
   "cell_type": "markdown",
   "metadata": {
    "id": "c8O6eVWJswVY"
   },
   "source": [
    "Ao encontrar A<sub>2</sub>, fazemos a decomposição QR para encontrar as matrizes Q<sub>2</sub> e R<sub>2</sub>:"
   ]
  },
  {
   "cell_type": "code",
   "execution_count": 6,
   "metadata": {
    "colab": {
     "base_uri": "https://localhost:8080/"
    },
    "id": "5OE08K0IrIIc",
    "outputId": "36427c31-4819-498e-d204-409e8ead878c"
   },
   "outputs": [
    {
     "name": "stdout",
     "output_type": "stream",
     "text": [
      "vetor: 1 [ 2.5        -0.36380344  0.34299717]\n",
      "vetor: 2 [ 1.09141031  4.26470588 -0.2495671 ]\n",
      "vetor: 3 [-1.02899151  3.99307359  0.23529412]\n",
      "\n",
      "Q2:\n",
      "[[ 0.98058068  0.15304883 -0.12262787]\n",
      " [-0.14269545  0.98573674  0.08922488]\n",
      " [ 0.13453456 -0.06999375  0.98843377]]\n",
      "\n",
      "R2:\n",
      "[[ 2.54950976  0.42808634 -1.54714743]\n",
      " [ 0.          4.3883845   3.76216429]\n",
      " [ 0.          0.          0.7150372 ]]\n"
     ]
    }
   ],
   "source": [
    "Q2, R2 = gram_schmidt(A2)\n",
    "print(\"\\nQ2:\")\n",
    "print(Q2)\n",
    "print(\"\\nR2:\")\n",
    "print(R2)"
   ]
  },
  {
   "cell_type": "markdown",
   "metadata": {
    "id": "UJXZFK1ts64y"
   },
   "source": [
    "## Iteração 3:"
   ]
  },
  {
   "cell_type": "markdown",
   "metadata": {
    "id": "9hbyVpLwtAhI"
   },
   "source": [
    "Ao encontrar as matrizes Q<sub>2</sub> e R<sub>2</sub>, é possível calcular a matrix A<sub>3</sub> = (R<sub>2</sub>)⋅(Q<sub>2</sub>)"
   ]
  },
  {
   "cell_type": "code",
   "execution_count": 7,
   "metadata": {
    "colab": {
     "base_uri": "https://localhost:8080/"
    },
    "id": "2IiuA28NrLpJ",
    "outputId": "a1a9b332-0363-44c8-db36-d2136321fb5c"
   },
   "outputs": [
    {
     "data": {
      "text/plain": [
       "array([[ 2.23076923,  0.92047058, -1.80369776],\n",
       "       [-0.12006138,  4.06246385,  4.11020333],\n",
       "       [ 0.09619721, -0.05004814,  0.70676692]])"
      ]
     },
     "execution_count": 7,
     "metadata": {},
     "output_type": "execute_result"
    }
   ],
   "source": [
    "A3 = np.dot(R2, Q2)\n",
    "A3"
   ]
  },
  {
   "cell_type": "markdown",
   "metadata": {
    "id": "kp87bjB2tE3x"
   },
   "source": [
    "Assim o processo é executado iterativamente até que os valores abaixo da diagonal principal da matrix A<sub>k</sub>, onde k = iter_atual sejam menores que o **erro (critério de parada)**, ou que atinja a quantidade máxima de iterações. Os autovalores serão os elementos da diagonal principal da matriz A<sub>k</sub>."
   ]
  },
  {
   "cell_type": "markdown",
   "metadata": {
    "id": "04ergh3Vt4Nk"
   },
   "source": [
    "# Execução do código"
   ]
  },
  {
   "cell_type": "code",
   "execution_count": 8,
   "metadata": {
    "id": "BABNoKLSewSz"
   },
   "outputs": [],
   "source": [
    "# Exemplo de uso:\n",
    "if __name__ == \"__main__\":\n",
    "    # Definindo uma matriz de exemplo\n",
    "    matriz_inicial = np.array([\n",
    "        [2, 3, 0],\n",
    "        [0, 4, 0],\n",
    "        [2, -3, 1]\n",
    "    ], dtype=float)"
   ]
  },
  {
   "cell_type": "markdown",
   "metadata": {
    "id": "E1plKLCGehTF"
   },
   "source": [
    "## Metodo Gram-Schmidt:"
   ]
  },
  {
   "cell_type": "code",
   "execution_count": 9,
   "metadata": {
    "colab": {
     "base_uri": "https://localhost:8080/"
    },
    "id": "mEU8mqxoeqHQ",
    "outputId": "d85e780e-ee9e-4068-bd0a-c90d533bcc97"
   },
   "outputs": [
    {
     "name": "stdout",
     "output_type": "stream",
     "text": [
      "Matriz A_1:\n",
      "[[ 2.  3.  0.]\n",
      " [ 0.  4.  0.]\n",
      " [ 2. -3.  1.]]\n",
      "vetor: 1 [2. 0. 2.]\n",
      "vetor: 2 [ 3.  4. -3.]\n",
      "vetor: 3 [0. 0. 1.]\n",
      "Matriz Q_1:\n",
      "[[ 0.70710678  0.51449576 -0.48507125]\n",
      " [ 0.          0.68599434  0.72760688]\n",
      " [ 0.70710678 -0.51449576  0.48507125]]\n",
      "Matriz R_1:\n",
      "[[ 2.82842712  0.          0.70710678]\n",
      " [ 0.          5.83095189 -0.51449576]\n",
      " [ 0.          0.          0.48507125]]\n",
      "Matriz A_2:\n",
      "[[ 2.5         1.09141031 -1.02899151]\n",
      " [-0.36380344  4.26470588  3.99307359]\n",
      " [ 0.34299717 -0.2495671   0.23529412]]\n",
      "vetor: 1 [ 2.5        -0.36380344  0.34299717]\n",
      "vetor: 2 [ 1.09141031  4.26470588 -0.2495671 ]\n",
      "vetor: 3 [-1.02899151  3.99307359  0.23529412]\n",
      "Matriz Q_2:\n",
      "[[ 0.98058068  0.15304883 -0.12262787]\n",
      " [-0.14269545  0.98573674  0.08922488]\n",
      " [ 0.13453456 -0.06999375  0.98843377]]\n",
      "Matriz R_2:\n",
      "[[ 2.54950976  0.42808634 -1.54714743]\n",
      " [ 0.          4.3883845   3.76216429]\n",
      " [ 0.          0.          0.7150372 ]]\n",
      "Matriz A_3:\n",
      "[[ 2.23076923  0.92047058 -1.80369776]\n",
      " [-0.12006138  4.06246385  4.11020333]\n",
      " [ 0.09619721 -0.05004814  0.70676692]]\n",
      "vetor: 1 [ 2.23076923 -0.12006138  0.09619721]\n",
      "vetor: 2 [ 0.92047058  4.06246385 -0.05004814]\n",
      "vetor: 3 [-1.80369776  4.11020333  0.70676692]\n",
      "Matriz Q_3:\n",
      "[[ 0.99763033  0.054571   -0.04190147]\n",
      " [-0.05369308  0.9983195   0.02179991]\n",
      " [ 0.0430207  -0.01949843  0.99888389]]\n",
      "Matriz R_3:\n",
      "[[ 2.23606798  0.69801006 -1.98970747]\n",
      " [ 0.          4.10684373  3.99108568]\n",
      " [ 0.          0.          0.87115776]]\n",
      "Matriz A_4:\n",
      "[[ 2.10769231  0.8576577  -2.06596473]\n",
      " [-0.04880979  4.02212224  4.07616003]\n",
      " [ 0.03747782 -0.01698621  0.87018545]]\n",
      "\n",
      "Autovalores aproximados: (Metodo de Gram-Schmidt)\n",
      "lambda_1 = 2.1076923076923073\n",
      "lambda_2 = 4.022122242949631\n",
      "lambda_3 = 0.87018544935806\n"
     ]
    }
   ],
   "source": [
    "autovalores_gs = metodo_qr(matriz_inicial, \"gs\", 3)\n",
    "print(\"\\nAutovalores aproximados: (Metodo de Gram-Schmidt)\")\n",
    "for i, autovalor in enumerate(autovalores_gs[-1]):\n",
    "  print(f\"lambda_{i+1} =\", autovalor)"
   ]
  },
  {
   "cell_type": "markdown",
   "metadata": {
    "id": "F34mDu0_fA5V"
   },
   "source": [
    "## Metodo Householder:"
   ]
  },
  {
   "cell_type": "code",
   "execution_count": 10,
   "metadata": {
    "colab": {
     "base_uri": "https://localhost:8080/"
    },
    "id": "7EgCgaVVfJkU",
    "outputId": "8a0e38f6-3393-4387-f200-9dae27dcdcc0"
   },
   "outputs": [
    {
     "name": "stdout",
     "output_type": "stream",
     "text": [
      "Matriz A_1:\n",
      "[[ 2.  3.  0.]\n",
      " [ 0.  4.  0.]\n",
      " [ 2. -3.  1.]]\n",
      "Matriz Q_1:\n",
      "[[-0.70710678 -0.51449576  0.48507125]\n",
      " [ 0.         -0.68599434 -0.72760688]\n",
      " [-0.70710678  0.51449576 -0.48507125]]\n",
      "Matriz R_1:\n",
      "[[-2.82842712e+00  8.88178420e-16 -7.07106781e-01]\n",
      " [ 0.00000000e+00 -5.83095189e+00  5.14495755e-01]\n",
      " [ 2.22044605e-16  0.00000000e+00 -4.85071250e-01]]\n",
      "Matriz A_2:\n",
      "[[ 2.5         1.09141031 -1.02899151]\n",
      " [-0.36380344  4.26470588  3.99307359]\n",
      " [ 0.34299717 -0.2495671   0.23529412]]\n",
      "Matriz Q_2:\n",
      "[[-0.98058068 -0.15304883  0.12262787]\n",
      " [ 0.14269545 -0.98573674 -0.08922488]\n",
      " [-0.13453456  0.06999375 -0.98843377]]\n",
      "Matriz R_2:\n",
      "[[-2.54950976e+00 -4.28086345e-01  1.54714743e+00]\n",
      " [ 5.55111512e-17 -4.38838450e+00 -3.76216429e+00]\n",
      " [-5.55111512e-17  5.55111512e-17 -7.15037199e-01]]\n",
      "Matriz A_3:\n",
      "[[ 2.23076923  0.92047058 -1.80369776]\n",
      " [-0.12006138  4.06246385  4.11020333]\n",
      " [ 0.09619721 -0.05004814  0.70676692]]\n",
      "Matriz Q_3:\n",
      "[[-0.99763033 -0.054571    0.04190147]\n",
      " [ 0.05369308 -0.9983195  -0.02179991]\n",
      " [-0.0430207   0.01949843 -0.99888389]]\n",
      "Matriz R_3:\n",
      "[[-2.23606798e+00 -6.98010061e-01  1.98970747e+00]\n",
      " [ 2.77555756e-17 -4.10684373e+00 -3.99108568e+00]\n",
      " [-2.77555756e-17 -4.16333634e-17 -8.71157755e-01]]\n",
      "Matriz A_4:\n",
      "[[ 2.10769231  0.8576577  -2.06596473]\n",
      " [-0.04880979  4.02212224  4.07616003]\n",
      " [ 0.03747782 -0.01698621  0.87018545]]\n",
      "\n",
      "Autovalores aproximados: (Metodo de Householder)\n",
      "lambda_1 = 2.1076923076923073\n",
      "lambda_2 = 4.022122242949636\n",
      "lambda_3 = 0.8701854493580599\n"
     ]
    }
   ],
   "source": [
    "autovalores_hh = metodo_qr(matriz_inicial, \"hh\", 3)\n",
    "\n",
    "print(\"\\nAutovalores aproximados: (Metodo de Householder)\")\n",
    "for i, autovalor in enumerate(autovalores_hh[-1]):\n",
    "  print(f\"lambda_{i+1} =\", autovalor)"
   ]
  },
  {
   "cell_type": "markdown",
   "metadata": {
    "id": "o6cXJiHmfZNd"
   },
   "source": [
    "## Metodo Givens:"
   ]
  },
  {
   "cell_type": "code",
   "execution_count": 11,
   "metadata": {
    "colab": {
     "base_uri": "https://localhost:8080/"
    },
    "id": "URWdmiGufgKA",
    "outputId": "500f6264-5d22-4e54-e2c7-e279f2847600"
   },
   "outputs": [
    {
     "name": "stdout",
     "output_type": "stream",
     "text": [
      "Matriz A_1:\n",
      "[[ 2.  3.  0.]\n",
      " [ 0.  4.  0.]\n",
      " [ 2. -3.  1.]]\n",
      "Matriz Q_1:\n",
      "[[ 0.70710678  0.          0.70710678]\n",
      " [ 0.          1.          0.        ]\n",
      " [-0.70710678  0.          0.70710678]]\n",
      "Matriz R_1:\n",
      "[[ 0.          4.24264069 -0.70710678]\n",
      " [ 0.          4.          0.        ]\n",
      " [ 2.82842712  0.          0.70710678]]\n",
      "Matriz A_2:\n",
      "[[ 0.5         4.24264069 -0.5       ]\n",
      " [ 0.          4.          0.        ]\n",
      " [ 1.5         0.          2.5       ]]\n",
      "Matriz Q_2:\n",
      "[[ 0.31622777 -0.67290046  0.66873386]\n",
      " [ 0.          0.70490738  0.70929937]\n",
      " [-0.9486833  -0.22430015  0.22291129]]\n",
      "Matriz R_2:\n",
      "[[-1.26491106  1.34164079 -2.52982213]\n",
      " [-0.67290046 -0.03524537 -0.22430015]\n",
      " [ 0.66873386  5.67439492  0.22291129]]\n",
      "Matriz A_3:\n",
      "[[ 2.00000000e+00  2.36433122e+00 -4.58189795e-01]\n",
      " [ 4.53343375e-17  4.78260870e-01 -5.24989873e-01]\n",
      " [-4.51413400e-17  3.49993249e+00  4.52173913e+00]]\n",
      "Matriz Q_3:\n",
      "[[ 1.00000000e+00  2.54317634e-17  1.94026053e-17]\n",
      " [-2.26671688e-17  1.35390384e-01  9.90792331e-01]\n",
      " [ 2.25706700e-17 -9.90792331e-01  1.35390384e-01]]\n",
      "Matriz R_3:\n",
      "[[ 2.00000000e+00  2.36433122e+00 -4.58189795e-01]\n",
      " [ 1.01727054e-16 -3.40295435e+00 -4.55118304e+00]\n",
      " [ 7.76104213e-17  9.47714404e-01  9.20440553e-02]]\n",
      "Matriz A_4:\n",
      "[[ 2.00000000e+00  7.74078646e-01  2.28052675e+00]\n",
      " [ 7.61391438e-17  4.04854996e+00 -3.98780749e+00]\n",
      " [ 5.82059149e-17  3.71148726e-02  9.51450044e-01]]\n",
      "\n",
      "Autovalores aproximados: (Metodo Rotação de Givens)\n",
      "lambda_1 = 1.9999999999999998\n",
      "lambda_2 = 4.048549956198994\n",
      "lambda_3 = 0.9514500438010054\n"
     ]
    }
   ],
   "source": [
    "autovalores_rg = metodo_qr(matriz_inicial, \"rg\", 3)\n",
    "\n",
    "print(\"\\nAutovalores aproximados: (Metodo Rotação de Givens)\")\n",
    "for i, autovalor in enumerate(autovalores_rg[-1]):\n",
    "    print(f\"lambda_{i+1} =\", autovalor)\n"
   ]
  },
  {
   "cell_type": "markdown",
   "metadata": {
    "id": "VW-ct1Rrki5G"
   },
   "source": [
    "## Comparando os metodos:"
   ]
  },
  {
   "cell_type": "code",
   "execution_count": 12,
   "metadata": {
    "colab": {
     "base_uri": "https://localhost:8080/"
    },
    "id": "RQ_Xoe7Akpet",
    "outputId": "93d3681c-3d56-4949-8d40-5f9b0eae03c0"
   },
   "outputs": [
    {
     "name": "stdout",
     "output_type": "stream",
     "text": [
      "\n",
      "Autovalores aproximados:\n",
      "           Metodo de Gram-Schmidt |   Metodo Householder   | Metodo Rotação de Givens\n",
      "lambda_1 = 2.10769230769230730971 | 2.10769230769230730971 | 1.99999999999999977796\n",
      "lambda_2 = 4.02212224294963061055 | 4.02212224294963593962 | 4.04854995619899415971\n",
      "lambda_3 = 0.87018544935805997032 | 0.87018544935805985929 | 0.95145004380100539620\n"
     ]
    }
   ],
   "source": [
    "print(\"\\nAutovalores aproximados:\")\n",
    "print(\"           Metodo de Gram-Schmidt |   Metodo Householder   | Metodo Rotação de Givens\")\n",
    "\n",
    "# Pegue os autovalores da última iteração de cada método\n",
    "autovalores_gs_ultima = autovalores_gs[-1]\n",
    "autovalores_hh_ultima = autovalores_hh[-1]\n",
    "autovalores_rg_ultima = autovalores_rg[-1]\n",
    "\n",
    "# Itere sobre os autovalores de cada método simultaneamente\n",
    "for i, (autovalor_gs, autovalor_hh, autovalor_rg) in enumerate(zip(autovalores_gs_ultima, autovalores_hh_ultima, autovalores_rg_ultima)):\n",
    "    print(f\"lambda_{i+1} = {autovalor_gs:.20f} | {autovalor_hh:.20f} | {autovalor_rg:.20f}\")\n"
   ]
  }
 ],
 "metadata": {
  "colab": {
   "provenance": [],
   "toc_visible": true
  },
  "kernelspec": {
   "display_name": "Python 3 (ipykernel)",
   "language": "python",
   "name": "python3"
  },
  "language_info": {
   "codemirror_mode": {
    "name": "ipython",
    "version": 3
   },
   "file_extension": ".py",
   "mimetype": "text/x-python",
   "name": "python",
   "nbconvert_exporter": "python",
   "pygments_lexer": "ipython3",
   "version": "3.11.7"
  }
 },
 "nbformat": 4,
 "nbformat_minor": 4
}
